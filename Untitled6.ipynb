{
 "cells": [
  {
   "cell_type": "code",
   "execution_count": 11,
   "id": "db0868f1",
   "metadata": {},
   "outputs": [
    {
     "name": "stdout",
     "output_type": "stream",
     "text": [
      "class    [1, 2]\n",
      "dtype: object\n"
     ]
    }
   ],
   "source": [
    "import pandas as pd\n",
    "d={\"class\":[1,2]}\n",
    "d=pd.Series(d)\n",
    "print(d)"
   ]
  },
  {
   "cell_type": "code",
   "execution_count": 13,
   "id": "64ba98c6",
   "metadata": {},
   "outputs": [
    {
     "name": "stdout",
     "output_type": "stream",
     "text": [
      "   class sec\n",
      "0      1   a\n",
      "1      2   b\n",
      "2      3   c\n"
     ]
    }
   ],
   "source": [
    "import pandas as pd\n",
    "d={\"class\":[1,2,3],\"sec\":[\"a\",\"b\",\"c\"]}\n",
    "df=pd.DataFrame(d)\n",
    "print(df)"
   ]
  },
  {
   "cell_type": "code",
   "execution_count": 41,
   "id": "47a961f0",
   "metadata": {},
   "outputs": [
    {
     "name": "stdout",
     "output_type": "stream",
     "text": [
      "arin     1\n",
      "yeami    2\n",
      "dtype: int64\n",
      "     0\n",
      "0  1.0\n",
      "1  2.0\n",
      "2  3.5\n"
     ]
    }
   ],
   "source": [
    "import pandas as pd\n",
    "A=[1,2,3.5]\n",
    "s=pd.Series(data={\"arin\":1,\"yeami\":2})\n",
    "s2=pd.DataFrame(A)\n",
    "print(s)\n",
    "print(s2)"
   ]
  },
  {
   "cell_type": "code",
   "execution_count": null,
   "id": "3a261f9f",
   "metadata": {},
   "outputs": [],
   "source": []
  }
 ],
 "metadata": {
  "kernelspec": {
   "display_name": "Python 3",
   "language": "python",
   "name": "python3"
  },
  "language_info": {
   "codemirror_mode": {
    "name": "ipython",
    "version": 3
   },
   "file_extension": ".py",
   "mimetype": "text/x-python",
   "name": "python",
   "nbconvert_exporter": "python",
   "pygments_lexer": "ipython3",
   "version": "3.8.8"
  }
 },
 "nbformat": 4,
 "nbformat_minor": 5
}
